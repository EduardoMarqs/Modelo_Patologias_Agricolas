{
 "cells": [
  {
   "cell_type": "markdown",
   "metadata": {},
   "source": [
    "# ETAPA 1 - Construção da Rede Neural Convolucional"
   ]
  },
  {
   "cell_type": "code",
   "execution_count": 1,
   "metadata": {},
   "outputs": [
    {
     "name": "stdout",
     "output_type": "stream",
     "text": [
      "Versão do TensorFlow: 2.1.0\n"
     ]
    }
   ],
   "source": [
    "import tensorflow as tf\n",
    "print(\"Versão do TensorFlow:\", tf.__version__)"
   ]
  },
  {
   "cell_type": "code",
   "execution_count": 2,
   "metadata": {},
   "outputs": [
    {
     "name": "stderr",
     "output_type": "stream",
     "text": [
      "Using TensorFlow backend.\n"
     ]
    },
    {
     "name": "stdout",
     "output_type": "stream",
     "text": [
      "Versão do Keras: 2.3.1\n"
     ]
    }
   ],
   "source": [
    "import keras as K\n",
    "print(\"Versão do Keras:\", K.__version__)"
   ]
  },
  {
   "cell_type": "code",
   "execution_count": 3,
   "metadata": {},
   "outputs": [],
   "source": [
    "from keras.models import Sequential\n",
    "from keras.layers import Conv2D\n",
    "from keras.layers import MaxPooling2D\n",
    "from keras.layers import Flatten\n",
    "from keras.layers import Dense\n",
    "from keras.layers import Dropout\n",
    "from keras.callbacks import ModelCheckpoint, EarlyStopping, ReduceLROnPlateau\n",
    "from PIL import Image\n",
    "from keras.optimizers import Adam"
   ]
  },
  {
   "cell_type": "code",
   "execution_count": 4,
   "metadata": {},
   "outputs": [],
   "source": [
    "# Inicializando a Rede Neural Convolucional\n",
    "classifier = Sequential()"
   ]
  },
  {
   "cell_type": "code",
   "execution_count": 5,
   "metadata": {},
   "outputs": [],
   "source": [
    "# Passo 1 - Primeira Camada de Convolução\n",
    "classifier.add(Conv2D(32, (3, 3), input_shape = (64, 64, 3), activation = 'relu'))"
   ]
  },
  {
   "cell_type": "code",
   "execution_count": 6,
   "metadata": {},
   "outputs": [],
   "source": [
    "# Passo 2 - Pooling\n",
    "classifier.add(MaxPooling2D(pool_size = (2, 2)))\n",
    "# Desativa 30% dos neuronios para evitar Overfiting\n",
    "classifier.add(Dropout(0.3))"
   ]
  },
  {
   "cell_type": "code",
   "execution_count": 7,
   "metadata": {},
   "outputs": [],
   "source": [
    "# Adicionando a Segunda Camada de Convolução\n",
    "classifier.add(Conv2D(32, (3, 3), activation = 'relu'))"
   ]
  },
  {
   "cell_type": "code",
   "execution_count": 8,
   "metadata": {},
   "outputs": [],
   "source": [
    "classifier.add(MaxPooling2D(pool_size = (2, 2)))\n",
    "classifier.add(Dropout(0.3))"
   ]
  },
  {
   "cell_type": "code",
   "execution_count": 9,
   "metadata": {},
   "outputs": [],
   "source": [
    "# Adicionando a Terceira Camada de Convolução\n",
    "classifier.add(Conv2D(32, (3, 3), activation = 'relu'))"
   ]
  },
  {
   "cell_type": "code",
   "execution_count": 10,
   "metadata": {},
   "outputs": [],
   "source": [
    "classifier.add(MaxPooling2D(pool_size = (2, 2)))\n",
    "classifier.add(Dropout(0.3))"
   ]
  },
  {
   "cell_type": "code",
   "execution_count": 11,
   "metadata": {},
   "outputs": [],
   "source": [
    "# Passo 3 - Flattening\n",
    "classifier.add(Flatten())"
   ]
  },
  {
   "cell_type": "code",
   "execution_count": 12,
   "metadata": {},
   "outputs": [],
   "source": [
    "# Passo 4 - Full connection\n",
    "classifier.add(Dense(units = 128, activation = 'relu'))\n",
    "classifier.add(Dropout(0.5))\n"
   ]
  },
  {
   "cell_type": "code",
   "execution_count": 13,
   "metadata": {},
   "outputs": [],
   "source": [
    "# Passo 5 - Camada de saida\n",
    "classifier.add(Dense(units = 3, activation = 'sigmoid'))"
   ]
  },
  {
   "cell_type": "code",
   "execution_count": 14,
   "metadata": {},
   "outputs": [],
   "source": [
    "# Compilando a rede\n",
    "classifier.compile(optimizer = Adam(lr = 1e-3), loss = 'binary_crossentropy', metrics = ['accuracy'])"
   ]
  },
  {
   "cell_type": "markdown",
   "metadata": {},
   "source": [
    "# ETAPA 2 - Treinamento da Rede Neural Convolucional"
   ]
  },
  {
   "cell_type": "markdown",
   "metadata": {},
   "source": [
    "### Pré-Processamento"
   ]
  },
  {
   "cell_type": "code",
   "execution_count": 15,
   "metadata": {},
   "outputs": [],
   "source": [
    "# Criando os objetos train_datagen e validation_datagen com as regras de pré-processamento das imagens\n",
    "from keras.preprocessing.image import ImageDataGenerator\n",
    "\n",
    "datagen = ImageDataGenerator(samplewise_center = False,\n",
    "                                  samplewise_std_normalization=False,\n",
    "                                  horizontal_flip=True,\n",
    "                                  vertical_flip=False,\n",
    "                                  height_shift_range=0.1,\n",
    "                                  width_shift_range=0.1,\n",
    "                                  brightness_range=[0.7,1.5],\n",
    "                                  rotation_range=3,\n",
    "                                  shear_range=0.01,\n",
    "                                  fill_mode='nearest',\n",
    "                                  zoom_range=0.125,\n",
    "                                  rescale=1./255)\n"
   ]
  },
  {
   "cell_type": "code",
   "execution_count": 16,
   "metadata": {},
   "outputs": [],
   "source": [
    "# Pré-processamento das imagens de treino e validação\n",
    "import pandas as pd\n",
    "\n",
    "train_data_df = pd.read_csv('dataset_train.csv', names=['files','class'], header=None, sep=';')\n",
    "valid_data_df = pd.read_csv('dataset_validation.csv', names=['files','class'], header=None, sep=';')"
   ]
  },
  {
   "cell_type": "code",
   "execution_count": 17,
   "metadata": {},
   "outputs": [
    {
     "name": "stdout",
     "output_type": "stream",
     "text": [
      "Found 3850 validated image filenames belonging to 3 classes.\n"
     ]
    },
    {
     "data": {
      "text/plain": [
       "{'Antracnose': 0, 'Oidio': 1, 'Saudavel': 2}"
      ]
     },
     "execution_count": 17,
     "metadata": {},
     "output_type": "execute_result"
    }
   ],
   "source": [
    "train_generator = datagen.flow_from_dataframe(train_data_df, directory=None, x_col='files', y_col='class', class_mode='categorical',\n",
    "                                             target_size = (64,64), batch_size = 8)\n",
    "train_generator.class_indices\n"
   ]
  },
  {
   "cell_type": "code",
   "execution_count": 18,
   "metadata": {},
   "outputs": [
    {
     "name": "stdout",
     "output_type": "stream",
     "text": [
      "Found 1100 validated image filenames belonging to 3 classes.\n"
     ]
    }
   ],
   "source": [
    "valid_generator = datagen.flow_from_dataframe(valid_data_df, directory=None, x_col='files', y_col='class', class_mode='categorical',\n",
    "                                             target_size = (64,64), batch_size = 8)"
   ]
  },
  {
   "cell_type": "markdown",
   "metadata": {},
   "source": [
    "### Treinamento"
   ]
  },
  {
   "cell_type": "code",
   "execution_count": 19,
   "metadata": {},
   "outputs": [
    {
     "name": "stderr",
     "output_type": "stream",
     "text": [
      "C:\\Users\\Eduardo Marques\\Anaconda3\\envs\\tensorflow_cpu\\lib\\site-packages\\keras\\callbacks\\callbacks.py:998: UserWarning: `epsilon` argument is deprecated and will be removed, use `min_delta` instead.\n",
      "  warnings.warn('`epsilon` argument is deprecated and '\n"
     ]
    }
   ],
   "source": [
    "reduceLROnPlat = ReduceLROnPlateau(monitor='val_loss', factor=0.8, patience=10, verbose=1, mode='auto', epsilon=0.0001, cooldown=5, min_lr=0.0001)"
   ]
  },
  {
   "cell_type": "code",
   "execution_count": 20,
   "metadata": {},
   "outputs": [
    {
     "name": "stderr",
     "output_type": "stream",
     "text": [
      "C:\\Users\\Eduardo Marques\\Anaconda3\\envs\\tensorflow_cpu\\lib\\site-packages\\keras\\callbacks\\callbacks.py:788: RuntimeWarning: EarlyStopping mode <built-in function min> is unknown, fallback to auto mode.\n",
      "  RuntimeWarning)\n"
     ]
    }
   ],
   "source": [
    "checkpoint = ModelCheckpoint('Modelo_Phatology_Final.hdf5', monitor = 'val_loss', verbose =1 , mode= 'min', save_best_only=True)\n",
    "\n",
    "early_stop = EarlyStopping(monitor='val_loss', min_delta=0.001, patience=5, mode=min, verbose=1)"
   ]
  },
  {
   "cell_type": "code",
   "execution_count": 22,
   "metadata": {},
   "outputs": [
    {
     "name": "stdout",
     "output_type": "stream",
     "text": [
      "Epoch 1/10\n",
      "481/481 [==============================] - 137s 284ms/step - loss: 0.2194 - accuracy: 0.9097 - val_loss: 0.0127 - val_accuracy: 0.9626\n",
      "\n",
      "Epoch 00001: val_loss improved from inf to 0.01275, saving model to Modelo_Phatology_Final.hdf5\n",
      "Epoch 2/10\n",
      "481/481 [==============================] - 95s 197ms/step - loss: 0.0752 - accuracy: 0.9769 - val_loss: 0.0365 - val_accuracy: 0.9814\n",
      "\n",
      "Epoch 00002: val_loss did not improve from 0.01275\n",
      "Epoch 3/10\n",
      "481/481 [==============================] - 79s 163ms/step - loss: 0.0585 - accuracy: 0.9839 - val_loss: 0.0623 - val_accuracy: 0.9612\n",
      "\n",
      "Epoch 00003: val_loss did not improve from 0.01275\n",
      "Epoch 4/10\n",
      "481/481 [==============================] - 72s 150ms/step - loss: 0.0423 - accuracy: 0.9877 - val_loss: 0.0123 - val_accuracy: 0.9774\n",
      "\n",
      "Epoch 00004: val_loss improved from 0.01275 to 0.01229, saving model to Modelo_Phatology_Final.hdf5\n",
      "Epoch 5/10\n",
      "481/481 [==============================] - 76s 159ms/step - loss: 0.0372 - accuracy: 0.9894 - val_loss: 0.0091 - val_accuracy: 0.9722\n",
      "\n",
      "Epoch 00005: val_loss improved from 0.01229 to 0.00914, saving model to Modelo_Phatology_Final.hdf5\n",
      "Epoch 6/10\n",
      "481/481 [==============================] - 83s 173ms/step - loss: 0.0426 - accuracy: 0.9866 - val_loss: 0.0080 - val_accuracy: 0.9814\n",
      "\n",
      "Epoch 00006: val_loss improved from 0.00914 to 0.00796, saving model to Modelo_Phatology_Final.hdf5\n",
      "Epoch 7/10\n",
      "481/481 [==============================] - 72s 149ms/step - loss: 0.0367 - accuracy: 0.9893 - val_loss: 0.0387 - val_accuracy: 0.9609\n",
      "\n",
      "Epoch 00007: val_loss did not improve from 0.00796\n",
      "Epoch 8/10\n",
      "481/481 [==============================] - 63s 130ms/step - loss: 0.0289 - accuracy: 0.9930 - val_loss: 0.0018 - val_accuracy: 0.9774\n",
      "\n",
      "Epoch 00008: val_loss improved from 0.00796 to 0.00179, saving model to Modelo_Phatology_Final.hdf5\n",
      "Epoch 9/10\n",
      "481/481 [==============================] - 48s 101ms/step - loss: 0.0250 - accuracy: 0.9927 - val_loss: 0.0078 - val_accuracy: 0.9563\n",
      "\n",
      "Epoch 00009: val_loss did not improve from 0.00179\n",
      "Epoch 10/10\n",
      "481/481 [==============================] - 71s 149ms/step - loss: 0.0346 - accuracy: 0.9913 - val_loss: 0.0031 - val_accuracy: 0.9789\n",
      "\n",
      "Epoch 00010: val_loss did not improve from 0.00179\n"
     ]
    }
   ],
   "source": [
    "# Executando o treinamento \n",
    "\n",
    "STEP_SIZE_TRAIN = train_generator.n // train_generator.batch_size \n",
    "STEP_SIZE_VALID = valid_generator.n // valid_generator.batch_size\n",
    "\n",
    "history = classifier.fit_generator(train_generator,\n",
    "                         steps_per_epoch = STEP_SIZE_TRAIN,\n",
    "                         epochs = 10,\n",
    "                         validation_data = valid_generator,\n",
    "                         validation_steps = STEP_SIZE_VALID,\n",
    "                         callbacks=[checkpoint, early_stop, reduceLROnPlat],\n",
    "                                   workers = 3)"
   ]
  },
  {
   "cell_type": "code",
   "execution_count": 23,
   "metadata": {},
   "outputs": [
    {
     "name": "stdout",
     "output_type": "stream",
     "text": [
      "Model: \"sequential_1\"\n",
      "_________________________________________________________________\n",
      "Layer (type)                 Output Shape              Param #   \n",
      "=================================================================\n",
      "conv2d_1 (Conv2D)            (None, 62, 62, 32)        896       \n",
      "_________________________________________________________________\n",
      "max_pooling2d_1 (MaxPooling2 (None, 31, 31, 32)        0         \n",
      "_________________________________________________________________\n",
      "dropout_1 (Dropout)          (None, 31, 31, 32)        0         \n",
      "_________________________________________________________________\n",
      "conv2d_2 (Conv2D)            (None, 29, 29, 32)        9248      \n",
      "_________________________________________________________________\n",
      "max_pooling2d_2 (MaxPooling2 (None, 14, 14, 32)        0         \n",
      "_________________________________________________________________\n",
      "dropout_2 (Dropout)          (None, 14, 14, 32)        0         \n",
      "_________________________________________________________________\n",
      "conv2d_3 (Conv2D)            (None, 12, 12, 32)        9248      \n",
      "_________________________________________________________________\n",
      "max_pooling2d_3 (MaxPooling2 (None, 6, 6, 32)          0         \n",
      "_________________________________________________________________\n",
      "dropout_3 (Dropout)          (None, 6, 6, 32)          0         \n",
      "_________________________________________________________________\n",
      "flatten_1 (Flatten)          (None, 1152)              0         \n",
      "_________________________________________________________________\n",
      "dense_1 (Dense)              (None, 128)               147584    \n",
      "_________________________________________________________________\n",
      "dropout_4 (Dropout)          (None, 128)               0         \n",
      "_________________________________________________________________\n",
      "dense_2 (Dense)              (None, 3)                 387       \n",
      "=================================================================\n",
      "Total params: 167,363\n",
      "Trainable params: 167,363\n",
      "Non-trainable params: 0\n",
      "_________________________________________________________________\n"
     ]
    }
   ],
   "source": [
    "classifier.summary()\n",
    " "
   ]
  },
  {
   "cell_type": "code",
   "execution_count": 24,
   "metadata": {},
   "outputs": [
    {
     "data": {
      "image/png": "[encoded data removed]",
      "text/plain": [
       "<Figure size 432x288 with 1 Axes>"
      ]
     },
     "metadata": {
      "needs_background": "light"
     },
     "output_type": "display_data"
    },
    {
     "data": {
      "text/plain": [
       "<Figure size 432x288 with 0 Axes>"
      ]
     },
     "metadata": {},
     "output_type": "display_data"
    },
    {
     "data": {
      "image/png": "[encoded data removed]",
      "text/plain": [
       "<Figure size 432x288 with 1 Axes>"
      ]
     },
     "metadata": {
      "needs_background": "light"
     },
     "output_type": "display_data"
    },
    {
     "data": {
      "text/plain": [
       "<Figure size 432x288 with 0 Axes>"
      ]
     },
     "metadata": {},
     "output_type": "display_data"
    },
    {
     "data": {
      "image/png": "[encoded data removed]",
      "text/plain": [
       "<Figure size 432x288 with 1 Axes>"
      ]
     },
     "metadata": {
      "needs_background": "light"
     },
     "output_type": "display_data"
    },
    {
     "data": {
      "text/plain": [
       "<Figure size 432x288 with 0 Axes>"
      ]
     },
     "metadata": {},
     "output_type": "display_data"
    }
   ],
   "source": [
    "import matplotlib.pyplot as plt\n",
    "acc = history.history['accuracy']\n",
    "val_acc = history.history['val_accuracy']\n",
    "loss = history.history['loss']\n",
    "val_loss = history.history['val_loss']\n",
    "\n",
    "epochs = range(len(acc))\n",
    "\n",
    "plt.plot(epochs, acc, 'r', label='Training accuracy')\n",
    "plt.plot(epochs, val_acc, 'b', label='Validation accuracy')\n",
    "plt.title('Training and Validation accuracy')\n",
    "plt.legend(loc=0)\n",
    "plt.figure()\n",
    "\n",
    "plt.show()\n",
    "\n",
    "\n",
    "epochs_loss = range(len(loss))\n",
    "\n",
    "plt.plot(epochs_loss, loss, 'r', label='Training loss')\n",
    "plt.plot(epochs_loss, val_loss, 'b', label='Validation loss')\n",
    "plt.title('Training and Validation loss')\n",
    "plt.legend(loc=0)\n",
    "plt.figure()\n",
    "\n",
    "plt.show()\n",
    "\n",
    "plt.plot(epochs, acc, 'r', label='Training accuracy')\n",
    "plt.plot(epochs, val_acc, 'y', label='Validation accuracy')\n",
    "plt.plot(epochs_loss, loss, 'g', label='Training loss')\n",
    "plt.plot(epochs_loss, val_loss, 'blue', label='Validation loss')\n",
    "plt.title('Training and Validation Accuracy / loss')\n",
    "plt.legend(loc=0)\n",
    "plt.figure()\n",
    "\n",
    "plt.show()"
   ]
  },
  {
   "cell_type": "markdown",
   "metadata": {},
   "source": [
    "## ETAPA 3 - Testar modelo a partir de previsões"
   ]
  },
  {
   "cell_type": "code",
   "execution_count": 26,
   "metadata": {},
   "outputs": [],
   "source": [
    "import pandas as pd\n",
    "import numpy as np\n",
    "path = 'dataset_test.csv'\n",
    "df = pd.read_csv(path, names=['files','class'],header=None, sep=';')\n",
    "\n",
    "from keras.preprocessing.image import load_img, img_to_array\n",
    "\n",
    "imgs = []\n",
    "for image_name in df['files'].values:\n",
    "    img = load_img(image_name, target_size = (64,64), color_mode = 'rgb')\n",
    "    img_array = img_to_array(img)\n",
    "    img_array = img_array/64.\n",
    "    imgs.append(img_array)\n",
    "imgs = np.array(imgs)"
   ]
  },
  {
   "cell_type": "code",
   "execution_count": 27,
   "metadata": {},
   "outputs": [
    {
     "name": "stdout",
     "output_type": "stream",
     "text": [
      "905/905 [==============================] - 1s 1ms/step\n"
     ]
    }
   ],
   "source": [
    "y_predict = classifier.predict(imgs, verbose=1)\n",
    "\n",
    "class_pred = []\n",
    "for pred in y_predict:\n",
    "    class_number = np.argmax(pred)\n",
    "    if class_number == 0:\n",
    "        class_pred.append('Antracnose')\n",
    "    elif class_number == 1:\n",
    "        class_pred.append('Oidio')\n",
    "    else:\n",
    "        class_pred.append('Saudavel')"
   ]
  },
  {
   "cell_type": "code",
   "execution_count": 28,
   "metadata": {},
   "outputs": [],
   "source": [
    "y_true = df['class'].values"
   ]
  },
  {
   "cell_type": "code",
   "execution_count": 29,
   "metadata": {},
   "outputs": [
    {
     "name": "stdout",
     "output_type": "stream",
     "text": [
      "              precision    recall  f1-score   support\n",
      "\n",
      "  Antracnose       0.57      0.64      0.60       174\n",
      "       Oidio       0.84      0.82      0.83       445\n",
      "    Saudavel       0.92      0.88      0.90       286\n",
      "\n",
      "    accuracy                           0.81       905\n",
      "   macro avg       0.78      0.78      0.78       905\n",
      "weighted avg       0.81      0.81      0.81       905\n",
      "\n"
     ]
    }
   ],
   "source": [
    "from sklearn.metrics import classification_report, confusion_matrix\n",
    "print(classification_report(y_true, class_pred, target_names = ['Antracnose','Oidio','Saudavel']))"
   ]
  },
  {
   "cell_type": "code",
   "execution_count": 30,
   "metadata": {},
   "outputs": [
    {
     "data": {
      "image/png": "[encoded data removed]",
      "text/plain": [
       "<Figure size 432x288 with 1 Axes>"
      ]
     },
     "metadata": {
      "needs_background": "light"
     },
     "output_type": "display_data"
    }
   ],
   "source": [
    "import itertools\n",
    "\n",
    "class_names=['Antracnose','Oidio','Saudavel']\n",
    "cm=confusion_matrix(y_true, class_pred)\n",
    "title='Matriz de confusão sem normalização'\n",
    "plt.imshow(cm, interpolation='nearest', cmap=plt.cm.Blues)\n",
    "plt.title(title)\n",
    "tick_marks = np.arange(len(class_names))\n",
    "plt.xticks(tick_marks, class_names, rotation=45)\n",
    "plt.yticks(tick_marks, class_names)\n",
    "thresh = cm.max() / 2.\n",
    "for i, j in itertools.product(range(cm.shape[0]), range(cm.shape[1])):\n",
    "    plt.text(j,i, format(cm[i,j], 'd'),\n",
    "            horizontalalignment=\"center\",\n",
    "            color=\"white\" if cm[i,j] > thresh else \"black\")\n",
    "\n",
    "plt.ylabel('True label')\n",
    "plt.xlabel('Predict label')\n",
    "plt.tight_layout()\n"
   ]
  },
  {
   "cell_type": "markdown",
   "metadata": {},
   "source": [
    "# ETAPA 4 - Exportar modelo"
   ]
  },
  {
   "cell_type": "code",
   "execution_count": 37,
   "metadata": {},
   "outputs": [],
   "source": [
    "#Salvando modelo .np \n",
    "import pickle\n",
    "\n",
    "file_pathology = open('Modelo_patologia.np','wb')\n",
    "pickle.dump(classifier, file_pathology)\n",
    "file_pathology.close()"
   ]
  },
  {
   "cell_type": "code",
   "execution_count": 38,
   "metadata": {},
   "outputs": [],
   "source": [
    "#Carregando modelo\n",
    "\n",
    "import pickle\n",
    "\n",
    "file_pathology = open('Modelo_patologia.np','rb')\n",
    "cl = pickle.load(file_pathology)"
   ]
  }
 ],
 "metadata": {
  "kernelspec": {
   "display_name": "Python 3",
   "language": "python",
   "name": "python3"
  },
  "language_info": {
   "codemirror_mode": {
    "name": "ipython",
    "version": 3
   },
   "file_extension": ".py",
   "mimetype": "text/x-python",
   "name": "python",
   "nbconvert_exporter": "python",
   "pygments_lexer": "ipython3",
   "version": "3.8.3"
  }
 },
 "nbformat": 4,
 "nbformat_minor": 2
}
